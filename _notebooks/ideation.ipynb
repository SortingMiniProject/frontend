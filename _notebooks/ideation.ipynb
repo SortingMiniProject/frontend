{
 "cells": [
  {
   "cell_type": "markdown",
   "metadata": {},
   "source": [
    "---\n",
    "toc: true\n",
    "comments: true\n",
    "layout: post\n",
    "title: Ideation\n",
    "description: Plan for mini project\n",
    "courses: { csa: {week: 13} }\n",
    "type: plans\n",
    "---"
   ]
  },
  {
   "cell_type": "markdown",
   "metadata": {},
   "source": [
    "## Inheritance Plans\n"
   ]
  },
  {
   "cell_type": "markdown",
   "metadata": {},
   "source": [
    "## Fibonacci Plans\n",
    "Developing Fibonacci Methods\n",
    "* Method 1: Recursive Approach\n",
    "    * Develop a recursive function to calculate the nth Fibonacci number.\n",
    "    * Implement caching/memoization to optimize performance.\n",
    "* Method 2: Iterative Approach\n",
    "    * Create an iterative solution that uses a loop for calculation, optimizing for time and space complexity.\n",
    "* Testing:\n",
    "    * Write unit tests for both methods to ensure accuracy and efficiency."
   ]
  },
  {
   "cell_type": "markdown",
   "metadata": {},
   "source": [
    "## Sort Project Plans\n",
    "> We use the spotify api and sort the songs it outputs alphabetiically using the algorithms below\n",
    "> Outputs array of resorted words with each algorithm as well as the stats on how long it took, and the most efficiant algorithm.\n",
    "\n",
    "\n",
    "## Algorithms we will use:\n",
    "> Bubble sort, insertion sort, merge sort, selection sort\n",
    "> **Create a Base Sort Class (Parent Class):**\n",
    "    > This class will serve as the foundation for all specific sorting algorithm classes.\n",
    "    > Key features to include:A method to count iterations, comparisons, and merges/swaps.\n",
    "    > A method for timing the duration of each sorting algorithm.\n",
    "    > A method to generate random elements for the data structure to be sorted.\n",
    "> **Develop Child Classes for Each Sorting Algorithm:**\n",
    "    > Create separate classes for each sorting algorithm (Bubble, Insertion, Selection, and Merge sort).\n",
    "    > These classes should extend the base Sort class and inherit its properties and methods.\n",
    "    > Each class should have:An __init__ method to initialize the class.\n",
    "    > A sort method that contains the specific algorithm for sorting.\n",
    "    > Utilize the inherited properties/methods from the parent class for counting and timing."
   ]
  },
  {
   "cell_type": "markdown",
   "metadata": {},
   "source": [
    "## An example of how we would use recursion\n",
    "![](https://afteracademy.com/images/what-is-recursion-in-programming-countdown-be8af290e510d331.png)"
   ]
  }
 ],
 "metadata": {
  "language_info": {
   "name": "python"
  }
 },
 "nbformat": 4,
 "nbformat_minor": 2
}
