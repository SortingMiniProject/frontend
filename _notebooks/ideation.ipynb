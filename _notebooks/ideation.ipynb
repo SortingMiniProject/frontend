{
 "cells": [
  {
   "cell_type": "markdown",
   "metadata": {},
   "source": [
    "---\n",
    "toc: true\n",
    "comments: true\n",
    "layout: post\n",
    "title: Ideation\n",
    "description: Plan for mini project\n",
    "courses: { csa: {week: 13} }\n",
    "type: plans\n",
    "---"
   ]
  },
  {
   "cell_type": "markdown",
   "metadata": {},
   "source": [
    "## Plans\n",
    "Developing Fibonacci Methods\n",
    "* Method 1: Recursive Approach\n",
    "    * Develop a recursive function to calculate the nth Fibonacci number.\n",
    "    * Implement caching/memoization to optimize performance.\n",
    "* Method 2: Iterative Approach\n",
    "    * Create an iterative solution that uses a loop for calculation, optimizing for time and space complexity.\n",
    "* Testing:\n",
    "    * Write unit tests for both methods to ensure accuracy and efficiency."
   ]
  }
 ],
 "metadata": {
  "language_info": {
   "name": "python"
  }
 },
 "nbformat": 4,
 "nbformat_minor": 2
}
